{
 "cells": [
  {
   "cell_type": "code",
   "execution_count": 24,
   "metadata": {},
   "outputs": [],
   "source": [
    "import pandas as pd\n",
    "import json\n",
    "import os\n",
    "from datasets import Dataset, DatasetDict\n",
    "from transformers import AutoTokenizer"
   ]
  },
  {
   "cell_type": "code",
   "execution_count": 13,
   "metadata": {},
   "outputs": [],
   "source": [
    "project_path = os.getcwd()\n",
    "train_path = os.path.join(project_path, '..', '..', 'data', 'processed', 'train.csv')\n",
    "test_path = os.path.join(project_path, '..', '..', 'data', 'processed', 'test.csv')\n",
    "train_df = pd.read_csv(train_path)\n",
    "test_df = pd.read_csv(test_path)"
   ]
  },
  {
   "cell_type": "code",
   "execution_count": 19,
   "metadata": {},
   "outputs": [
    {
     "name": "stdout",
     "output_type": "stream",
     "text": [
      "Min length report: 3416\n",
      "Max length report: 33209\n",
      "Mean length report: 11007.517482517482\n",
      "Standard deviation report: 4990.852398247897\n",
      "Min length summary: 576\n",
      "Max length summary: 2210\n",
      "Mean length summary: 1145.2202797202797\n",
      "Standard deviation summary: 322.84188255421503\n"
     ]
    }
   ],
   "source": [
    "# min, max, mean, std of the length of the discharge reports and summaries\n",
    "lengths = train_df['discharge_report'].str.len()  # Calculate the length of each report\n",
    "\n",
    "# Calculate min, max, mean, and std\n",
    "min_length = lengths.min()\n",
    "max_length = lengths.max()\n",
    "mean_length = lengths.mean()\n",
    "std_length = lengths.std()\n",
    "\n",
    "# Print the results\n",
    "print(f\"Min length report: {min_length}\")\n",
    "print(f\"Max length report: {max_length}\")\n",
    "print(f\"Mean length report: {mean_length}\")\n",
    "print(f\"Standard deviation report: {std_length}\")\n",
    "\n",
    "lengths = train_df['discharge_summary'].str.len()  # Calculate the length of each summary\n",
    "\n",
    "# Calculate min, max, mean, and std\n",
    "min_length = lengths.min()\n",
    "max_length = lengths.max()\n",
    "mean_length = lengths.mean()\n",
    "std_length = lengths.std()\n",
    "\n",
    "# Print the results\n",
    "print(f\"Min length summary: {min_length}\")\n",
    "print(f\"Max length summary: {max_length}\")\n",
    "print(f\"Mean length summary: {mean_length}\")\n",
    "print(f\"Standard deviation summary: {std_length}\")\n"
   ]
  },
  {
   "cell_type": "code",
   "execution_count": 23,
   "metadata": {},
   "outputs": [
    {
     "name": "stdout",
     "output_type": "stream",
     "text": [
      "DatasetDict({\n",
      "    train: Dataset({\n",
      "        features: ['discharge_report', 'discharge_summary'],\n",
      "        num_rows: 286\n",
      "    })\n",
      "    test: Dataset({\n",
      "        features: ['discharge_report', 'discharge_summary'],\n",
      "        num_rows: 96\n",
      "    })\n",
      "})\n"
     ]
    }
   ],
   "source": [
    "train_dataset = Dataset.from_pandas(train_df)\n",
    "test_dataset = Dataset.from_pandas(test_df)\n",
    "dataset = DatasetDict({'train': train_dataset, 'test': test_dataset})\n",
    "print(dataset)\n"
   ]
  },
  {
   "cell_type": "code",
   "execution_count": 26,
   "metadata": {},
   "outputs": [
    {
     "data": {
      "application/vnd.jupyter.widget-view+json": {
       "model_id": "0c377066392043e1984e44f0b0fff0ae",
       "version_major": 2,
       "version_minor": 0
      },
      "text/plain": [
       "tokenizer_config.json:   0%|          | 0.00/1.13k [00:00<?, ?B/s]"
      ]
     },
     "metadata": {},
     "output_type": "display_data"
    },
    {
     "data": {
      "application/vnd.jupyter.widget-view+json": {
       "model_id": "4e6e10f5a99e4c779ce2c6eca9f06abc",
       "version_major": 2,
       "version_minor": 0
      },
      "text/plain": [
       "vocab.json:   0%|          | 0.00/1.59M [00:00<?, ?B/s]"
      ]
     },
     "metadata": {},
     "output_type": "display_data"
    },
    {
     "data": {
      "application/vnd.jupyter.widget-view+json": {
       "model_id": "b53d9d72d2f54ef0b49c45d4f80ac6f0",
       "version_major": 2,
       "version_minor": 0
      },
      "text/plain": [
       "merges.txt:   0%|          | 0.00/892k [00:00<?, ?B/s]"
      ]
     },
     "metadata": {},
     "output_type": "display_data"
    },
    {
     "data": {
      "application/vnd.jupyter.widget-view+json": {
       "model_id": "a591052bde8445b4b1dcdce879318fd5",
       "version_major": 2,
       "version_minor": 0
      },
      "text/plain": [
       "special_tokens_map.json:   0%|          | 0.00/772 [00:00<?, ?B/s]"
      ]
     },
     "metadata": {},
     "output_type": "display_data"
    },
    {
     "name": "stdout",
     "output_type": "stream",
     "text": [
      "BartTokenizerFast(name_or_path='GanjinZero/biobart-v2-base', vocab_size=85401, model_max_length=1000000000000000019884624838656, is_fast=True, padding_side='right', truncation_side='right', special_tokens={'bos_token': '<s>', 'eos_token': '</s>', 'unk_token': '<unk>', 'sep_token': '</s>', 'pad_token': '<pad>', 'cls_token': '<s>', 'mask_token': '<mask>'}, clean_up_tokenization_spaces=True),  added_tokens_decoder={\n",
      "\t0: AddedToken(\"<s>\", rstrip=False, lstrip=False, single_word=False, normalized=True, special=True),\n",
      "\t1: AddedToken(\"<pad>\", rstrip=False, lstrip=False, single_word=False, normalized=True, special=True),\n",
      "\t2: AddedToken(\"</s>\", rstrip=False, lstrip=False, single_word=False, normalized=True, special=True),\n",
      "\t3: AddedToken(\"<unk>\", rstrip=False, lstrip=False, single_word=False, normalized=True, special=True),\n",
      "\t50264: AddedToken(\"<mask>\", rstrip=False, lstrip=True, single_word=False, normalized=True, special=True),\n",
      "}\n"
     ]
    }
   ],
   "source": [
    "model_name = \"GanjinZero/biobart-v2-base\"\n",
    "tokenizer = AutoTokenizer.from_pretrained(model_name)\n",
    "print(tokenizer)"
   ]
  },
  {
   "cell_type": "code",
   "execution_count": 42,
   "metadata": {},
   "outputs": [
    {
     "data": {
      "application/vnd.jupyter.widget-view+json": {
       "model_id": "f4f63784d4744471ae8f093b8e7a56ab",
       "version_major": 2,
       "version_minor": 0
      },
      "text/plain": [
       "Map:   0%|          | 0/286 [00:00<?, ? examples/s]"
      ]
     },
     "metadata": {},
     "output_type": "display_data"
    },
    {
     "data": {
      "application/vnd.jupyter.widget-view+json": {
       "model_id": "8b7ce0a9cc9f4d32b32ba17321340b96",
       "version_major": 2,
       "version_minor": 0
      },
      "text/plain": [
       "Map:   0%|          | 0/96 [00:00<?, ? examples/s]"
      ]
     },
     "metadata": {},
     "output_type": "display_data"
    },
    {
     "data": {
      "text/plain": [
       "DatasetDict({\n",
       "    train: Dataset({\n",
       "        features: ['discharge_report', 'discharge_summary', 'input_ids', 'attention_mask', 'labels'],\n",
       "        num_rows: 286\n",
       "    })\n",
       "    test: Dataset({\n",
       "        features: ['discharge_report', 'discharge_summary', 'input_ids', 'attention_mask', 'labels'],\n",
       "        num_rows: 96\n",
       "    })\n",
       "})"
      ]
     },
     "execution_count": 42,
     "metadata": {},
     "output_type": "execute_result"
    }
   ],
   "source": [
    "prefix = \"summarize: \"\n",
    "\n",
    "def preprocess_function(examples):\n",
    "    inputs = [prefix + doc for doc in examples[\"discharge_report\"]]\n",
    "    model_inputs = tokenizer(inputs, truncation=False)  # Don't truncate to see actual length\n",
    "\n",
    "    labels = tokenizer(text_target=examples[\"discharge_summary\"], truncation=False)  # Don't truncate to see actual length\n",
    "\n",
    "    model_inputs[\"labels\"] = labels[\"input_ids\"]\n",
    "    return model_inputs\n",
    "\n",
    "tokenized_dataset = dataset.map(preprocess_function, batched=True)\n",
    "tokenized_dataset"
   ]
  },
  {
   "cell_type": "code",
   "execution_count": 39,
   "metadata": {},
   "outputs": [
    {
     "data": {
      "text/plain": [
       "3863"
      ]
     },
     "execution_count": 39,
     "metadata": {},
     "output_type": "execute_result"
    }
   ],
   "source": [
    "# Summary statistics\n",
    "max_length = max(token_lengths)\n",
    "min_length = min(token_lengths)\n",
    "avg_length = sum(token_lengths) / len(token_lengths)\n",
    "exceed_count = sum(1 for length in token_lengths if length > model_max_length)"
   ]
  },
  {
   "cell_type": "code",
   "execution_count": null,
   "metadata": {},
   "outputs": [],
   "source": []
  }
 ],
 "metadata": {
  "kernelspec": {
   "display_name": "pytorch_env",
   "language": "python",
   "name": "python3"
  },
  "language_info": {
   "codemirror_mode": {
    "name": "ipython",
    "version": 3
   },
   "file_extension": ".py",
   "mimetype": "text/x-python",
   "name": "python",
   "nbconvert_exporter": "python",
   "pygments_lexer": "ipython3",
   "version": "3.10.14"
  }
 },
 "nbformat": 4,
 "nbformat_minor": 2
}
