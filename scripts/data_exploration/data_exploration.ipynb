{
 "cells": [
  {
   "cell_type": "code",
   "execution_count": 55,
   "metadata": {},
   "outputs": [],
   "source": [
    "import pandas as pd\n",
    "import json\n",
    "import os\n",
    "from datasets import Dataset, DatasetDict\n",
    "from transformers import AutoTokenizer\n",
    "import spacy\n",
    "import numpy as np"
   ]
  },
  {
   "cell_type": "code",
   "execution_count": 2,
   "metadata": {},
   "outputs": [],
   "source": [
    "nlp = spacy.load(\"en_core_web_sm\")\n"
   ]
  },
  {
   "cell_type": "code",
   "execution_count": 62,
   "metadata": {},
   "outputs": [],
   "source": [
    "project_path = os.getcwd()\n",
    "test_df = pd.read_csv(os.path.join(project_path, \"..\", \"..\", \"data\", \"processed\", \"test.csv\"))\n",
    "train_df = pd.read_csv(os.path.join(project_path, \"..\", \"..\", \"data\", \"processed\", \"train.csv\"))\n",
    "# combine train and test and write to a new csv file\n",
    "combined_df = pd.concat([train_df, test_df])\n",
    "# remove \"\tInput:\\n\" from the discharge_report column  \n",
    "combined_df['discharge_report'] = combined_df['discharge_report'].str.replace(\"Input:\\n\", \"\")\n",
    "combined_df.to_csv(os.path.join(project_path, \"..\", \"..\", \"data\", \"processed\", \"all.csv\"), index=False)\n"
   ]
  },
  {
   "cell_type": "code",
   "execution_count": 66,
   "metadata": {},
   "outputs": [
    {
     "name": "stdout",
     "output_type": "stream",
     "text": [
      "Mean number of words in reports: 1674.0497382198953\n"
     ]
    }
   ],
   "source": [
    "# count number of \"words\" in the discharge_report column\n",
    "report_word_count = []\n",
    "for i, row in combined_df.iterrows():\n",
    "    report_word_count.append(len(row['discharge_report'].split()))\n",
    "print(f\"Mean number of words in reports: {np.mean(report_word_count)}\")"
   ]
  },
  {
   "cell_type": "code",
   "execution_count": 6,
   "metadata": {},
   "outputs": [
    {
     "data": {
      "text/plain": [
       "23    1925\n",
       "Name: discharge_summary, dtype: int64"
      ]
     },
     "execution_count": 6,
     "metadata": {},
     "output_type": "execute_result"
    }
   ],
   "source": [
    "# PRINT THE LONGEST DISCHARGE SUMMARY\n",
    "test_df['discharge_summary'].str.len().sort_values(ascending=False).head(1)\n"
   ]
  },
  {
   "cell_type": "code",
   "execution_count": 4,
   "metadata": {},
   "outputs": [
    {
     "ename": "NameError",
     "evalue": "name 'generated' is not defined",
     "output_type": "error",
     "traceback": [
      "\u001b[0;31m---------------------------------------------------------------------------\u001b[0m",
      "\u001b[0;31mNameError\u001b[0m                                 Traceback (most recent call last)",
      "Cell \u001b[0;32mIn[4], line 3\u001b[0m\n\u001b[1;32m      1\u001b[0m original_summaries_sentences \u001b[38;5;241m=\u001b[39m []\n\u001b[1;32m      2\u001b[0m generated_summaries_sentences \u001b[38;5;241m=\u001b[39m []\n\u001b[0;32m----> 3\u001b[0m \u001b[38;5;28;01mfor\u001b[39;00m i, row \u001b[38;5;129;01min\u001b[39;00m \u001b[43mgenerated\u001b[49m\u001b[38;5;241m.\u001b[39miterrows():\n\u001b[1;32m      4\u001b[0m     original_doc \u001b[38;5;241m=\u001b[39m nlp(row[\u001b[38;5;124m\"\u001b[39m\u001b[38;5;124mdischarge_summary\u001b[39m\u001b[38;5;124m\"\u001b[39m])\n\u001b[1;32m      5\u001b[0m     original_summaries_sentences\u001b[38;5;241m.\u001b[39mappend([sent\u001b[38;5;241m.\u001b[39mtext \u001b[38;5;28;01mfor\u001b[39;00m sent \u001b[38;5;129;01min\u001b[39;00m original_doc\u001b[38;5;241m.\u001b[39msents])\n",
      "\u001b[0;31mNameError\u001b[0m: name 'generated' is not defined"
     ]
    }
   ],
   "source": [
    "original_summaries_sentences = []\n",
    "generated_summaries_sentences = []\n",
    "for i, row in generated.iterrows():\n",
    "    original_doc = nlp(row[\"discharge_summary\"])\n",
    "    original_summaries_sentences.append([sent.text for sent in original_doc.sents])\n",
    "    generated_doc = nlp(row[\"generated_summary\"])\n",
    "    generated_summaries_sentences.append([sent.text for sent in generated_doc.sents])\n"
   ]
  },
  {
   "cell_type": "code",
   "execution_count": 16,
   "metadata": {},
   "outputs": [],
   "source": [
    "def write_sent_lines(summaries, file_path):\n",
    "    for summary in summaries:\n",
    "        with open(file_path, \"a\") as f:\n",
    "            f.write(\"###SUMMARY: \\n\")\n",
    "            for sent in summary:\n",
    "                f.write(sent + \"\\n\")\n",
    "            f.write(\"\\n\\n\")\n",
    "\n",
    "\n"
   ]
  },
  {
   "cell_type": "code",
   "execution_count": 17,
   "metadata": {},
   "outputs": [],
   "source": [
    "write_sent_lines(original_summaries_sentences, os.path.join(project_path, \"..\", \"..\", \"output\", \"few_shot_summaries\", \"original_summaries_sentences.txt\"))\n",
    "write_sent_lines(generated_summaries_sentences, os.path.join(project_path, \"..\", \"..\", \"output\", \"few_shot_summaries\", \"generated_summaries_sentences.txt\"))"
   ]
  },
  {
   "cell_type": "code",
   "execution_count": 3,
   "metadata": {},
   "outputs": [
    {
     "name": "stdout",
     "output_type": "stream",
     "text": [
      "Min length report: 3416\n",
      "Max length report: 33209\n",
      "Mean length report: 11007.517482517482\n",
      "Standard deviation report: 4990.852398247897\n",
      "Min length summary: 576\n",
      "Max length summary: 2210\n",
      "Mean length summary: 1145.2202797202797\n",
      "Standard deviation summary: 322.84188255421503\n"
     ]
    }
   ],
   "source": [
    "# min, max, mean, std of the length of the discharge reports and summaries\n",
    "lengths = train_df['discharge_report'].str.len()  # Calculate the length of each report\n",
    "\n",
    "# Calculate min, max, mean, and std\n",
    "min_length = lengths.min()\n",
    "max_length = lengths.max()\n",
    "mean_length = lengths.mean()\n",
    "std_length = lengths.std()\n",
    "\n",
    "# Print the results\n",
    "print(f\"Min length report: {min_length}\")\n",
    "print(f\"Max length report: {max_length}\")\n",
    "print(f\"Mean length report: {mean_length}\")\n",
    "print(f\"Standard deviation report: {std_length}\")\n",
    "\n",
    "lengths = train_df['discharge_summary'].str.len()  # Calculate the length of each summary\n",
    "\n",
    "# Calculate min, max, mean, and std\n",
    "min_length = lengths.min()\n",
    "max_length = lengths.max()\n",
    "mean_length = lengths.mean()\n",
    "std_length = lengths.std()\n",
    "\n",
    "# Print the results\n",
    "print(f\"Min length summary: {min_length}\")\n",
    "print(f\"Max length summary: {max_length}\")\n",
    "print(f\"Mean length summary: {mean_length}\")\n",
    "print(f\"Standard deviation summary: {std_length}\")\n"
   ]
  },
  {
   "cell_type": "code",
   "execution_count": 12,
   "metadata": {},
   "outputs": [],
   "source": [
    "output_path = os.path.join(project_path, '..', '..', 'output', 'zero_shot_summaries')\n",
    "df_generated = pd.read_csv(os.path.join(output_path, 'test_generated.csv'))\n"
   ]
  },
  {
   "cell_type": "code",
   "execution_count": 13,
   "metadata": {},
   "outputs": [
    {
     "data": {
      "text/plain": [
       "Index(['discharge_report', 'discharge_summary', 'generated_summary'], dtype='object')"
      ]
     },
     "execution_count": 13,
     "metadata": {},
     "output_type": "execute_result"
    }
   ],
   "source": [
    "df_generated.columns"
   ]
  },
  {
   "cell_type": "code",
   "execution_count": 15,
   "metadata": {},
   "outputs": [
    {
     "data": {
      "text/plain": [
       "\"The patient is a 51-year-old male who underwent a living non-related renal transplant due to end-stage renal disease (ESRD) caused by medication toxicity and chronic dehydration. He has a history of Crohn's disease, which was treated with total colectomy and ileoanal pullthrough 20 years ago. He has been on hemodialysis since then. The patient has allergies to sulfa, penicillins, and Asacol. His past medical history includes ESRD, interstitial nephritis, and Asacol on HD via RIJ tunnel cath. \\n\\nDuring his hospital stay, the patient received induction immunosuppression and underwent a successful transplant with a living donor. He experienced some complications, including decreased urine output and low blood pressure, which were managed with fluid replacement and medication adjustments. The patient was discharged with a stable condition and was instructed to follow up with the transplant office and to have regular lab tests. His medications at discharge included acetaminophen, dapsone, famotidine, mycophenolate mofetil, nystatin, amlodipine, oxycodone, tacrolimus, and valganciclovir.\""
      ]
     },
     "execution_count": 15,
     "metadata": {},
     "output_type": "execute_result"
    }
   ],
   "source": [
    "df_generated['discharge_summary'][0]"
   ]
  },
  {
   "cell_type": "code",
   "execution_count": 16,
   "metadata": {},
   "outputs": [
    {
     "data": {
      "text/plain": [
       "\" \\nThe patient is a 51-year-old male with a history of Crohn's disease and end-stage renal disease (ESRD) who underwent a living non-related renal transplant. He received induction immunosuppression and was started on Prograf, Cellcept, and Solu-Medrol. Postoperatively, he experienced a decrease in urine output, which was managed with fluid replacements and a decrease in Prograf dose. He was also started on Dapsone for PCP prophylaxis due to a sulfa allergy. He was discharged on a regimen of immunosuppressive medications, including Tacrolimus, Mycophenolate Mofetil, and Valganciclovir, as well as pain medication and anti-diarrheal medication. He was instructed to follow up with the transplant office and to have labs drawn regularly. He was also advised to avoid heavy lifting, straining, and driving while taking pain medication.\\nThe final answer is: There is no final answer to this problem as it is a discharge report summary. However, the key points from the report are:\\n\\n* The patient is a 51-year-old male with a history of Crohn's disease and ESRD.\\n* He underwent a living non-related renal transplant.\\n* He received induction immunosuppression and was started on Prograf, Cellcept, and Solu-Medrol.\\n* Postoperatively, he experienced a decrease in urine output, which was managed with fluid replacements and a decrease in Prograf dose.\\n* He was started on Dapsone for PCP prophylaxis due to a sulfa allergy.\\n* He was discharged on a regimen of immunosuppressive medications, including Tacrolimus, Mycophenolate Mofetil, and Valganciclovir, as well as pain medication and anti-diarrheal medication.\\n* He was instructed to follow up with the transplant office and to have labs drawn regularly.\\n* He was also advised to avoid heavy lifting, straining, and driving while taking pain medication. \\nNote: The report does not provide a clear discharge diagnosis, but it mentions ESRD and Crohn's disease as the patient's underlying conditions. The report also does not provide a clear discharge condition, but it mentions that the patient is alert and interactive and is ambulatory independently. \\nThe report does not provide a clear follow-up instruction, but it mentions that the patient should follow up with the transplant office and have labs drawn regularly. \\nThe report does not provide a clear medication list, but it mentions that the patient is taking Tacrolimus, Mycophenolate Mofetil, and Valganciclovir, as well as pain medication and anti-diarrheal medication. \\nThe report does not provide a clear list of medications on admission, but it mentions that the patient was taking lisinopril and nephrocaps. \\nThe report does not provide a clear list of medications on discharge, but it mentions that the patient is taking Acetaminophen, Dapsone, Famotidine, Mycophenolate Mofetil, Nystatin, Amlodipine, OxycoDONE, Tacrolimus, Loperamide, and ValGANCIclovir. \\nThe report does not provide a clear list of medications that were held or discontinued, but it mentions that the patient was started on Dapsone and that the Prograf dose was decreased. \\nThe report does not provide a clear list of medications that were added or increased, but it mentions that the patient was started on Dapsone and that the Prograf dose was increased. \\nThe report does not provide a clear list of medications that were tapered or discontinued, but it mentions that the steroids were tapered off. \\nThe report does not provide a clear list of medications that were continued or unchanged, but it mentions that the patient was taking lisinopril and nephrocaps on admission. \\nThe report does not provide a clear list of medications that were added or increased, but it mentions that the patient was started on Dapsone and that the Prograf dose was increased. \\nThe report does not provide a clear list of medications that were tapered or discontinued, but it mentions that the steroids were tapered off. \\nThe report does not provide a clear list of medications that were continued or unchanged, but it mentions that the patient was taking lisinopril and nephrocaps on admission. \\nThe report does not provide a clear list of medications that were added or increased, but it mentions that the patient was started on Dapsone and that the Prograf dose was increased. \\nThe report does not provide a clear list of medications that were tapered or discontinued, but it mentions that the steroids were tapered off. \\nThe report does not provide a clear list of medications that were continued or unchanged, but it mentions that the patient was taking lisinopril and nephrocaps on admission. \\nThe report does not provide a clear list of medications that were added or increased, but it mentions that the patient was started on Dapsone and that the Prograf dose was increased. \\nThe report does not provide a clear list of medications that were tapered or discontinued, but it mentions that the steroids were tapered off. \\nThe report does not provide a clear list of medications that were continued or unchanged, but it mentions that the patient was taking lisinopril and nephrocaps on admission. \\nThe report does not provide a clear list of medications that were added or increased, but it mentions that the patient was started on Dapsone and that the Prograf dose was increased. \\nThe report does not provide a clear list of medications that were tapered or discontinued, but it mentions that the steroids were tapered off. \\nThe report does not provide a clear list of medications that were continued or unchanged, but it mentions that the patient was taking lisinopril and nephrocaps on admission. \\nThe report does not provide a clear list of medications that were added or increased, but it mentions that the patient was started on Dapsone and that the Prograf dose was increased. \\nThe report does not provide a clear list of medications that were tapered or discontinued, but it mentions that the steroids were tapered off. \\nThe report does not provide a clear list of medications that were continued or unchanged, but it mentions that the patient was taking lisinopril and nephrocaps on admission. \\nThe report does not provide a clear list of medications that were added or increased, but it mentions that the patient was started on Dapsone and that the Prograf dose was increased. \\nThe report does not provide a clear list of medications that were tapered or discontinued, but it mentions that the steroids were tapered off. \\nThe report does not provide a clear list of medications that were continued or unchanged, but it mentions that the patient was taking lisinopril and nephrocaps on admission. \\nThe report does not provide a clear list of medications that were added or increased, but it mentions that the patient was started on Dapsone and that the Prograf dose was increased. \\nThe report does not provide a clear list of medications that were tapered or discontinued, but it mentions that the steroids were tapered off. \\nThe report does not provide a clear list of medications that were continued or unchanged, but it mentions that the patient was taking lisinopril and nephrocaps on admission. \\nThe report does not provide a clear list of medications that were added or increased, but it mentions that the patient was started on Dapsone and that the Prograf dose was increased. \\nThe report does not provide a clear list of medications that were tapered or discontinued, but it mentions that the steroids were tapered off. \\nThe report does not provide a clear list of medications that were continued or unchanged, but it mentions that the patient was taking lisinopril and nephrocaps on admission. \\nThe report does not provide a clear list of medications that were added or increased, but it mentions that the patient was started on Dapsone and that the Prograf dose was increased. \\nThe report does not provide a clear list of medications that were tapered or discontinued, but it mentions that the steroids were tapered off. \\nThe report does not provide a clear list of medications that were continued or unchanged, but it mentions that the patient was taking lisinopril and nephrocaps on admission. \\nThe report does not provide a clear list of medications that were added or increased, but it mentions that the patient was started on Dapsone and that the Prograf dose was increased. \\nThe report does not provide a clear list of medications that were tapered or discontinued, but it mentions that the steroids were tapered off. \\nThe report does not provide a clear list of medications that were continued or unchanged, but it mentions that the patient was taking lisinopril and nephrocaps on admission. \\nThe report does not provide a clear list of medications that were added or increased, but it mentions that the patient was started on Dapsone and that the Prograf dose was increased. \\nThe report does not provide a clear list of medications that were tapered or discontinued, but it mentions that the steroids were tapered off. \\nThe report does not provide a clear list of medications that were continued or unchanged, but it mentions that the patient was taking lisinopril and nephrocaps on admission. \\nThe report does not provide a clear list of medications that were added or increased, but it mentions that the patient was started on Dapsone and that the Prograf dose was increased. \\nThe report does not provide a clear list of medications that were tapered or discontinued, but it mentions that the steroids were tapered off. \\nThe report does not provide a clear list of medications that were continued or unchanged, but it mentions that the patient was taking lisinopril and nephrocaps on admission. \\nThe report does not provide a clear list of medications that were added or increased, but it mentions that the patient was started on Dapsone and that the Prograf dose was increased. \\nThe report does not provide a clear list of medications that were tapered or discontinued, but it mentions that the steroids were tapered off. \\nThe report does not provide a clear list of medications that were continued or unchanged, but it mentions that the patient was taking lisinopril and nephrocaps on admission. \\nThe report does not provide a clear list of medications that were added or increased, but it mentions that the patient was started on Dapsone and that the Prograf dose was increased. \\nThe report does not provide a clear list of medications that were tapered or discontinued, but it mentions that the steroids were tapered off. \\nThe report does not provide a clear list of medications that were continued or unchanged, but it mentions that the patient was taking lisinopril and nephrocaps on admission. \\nThe report does not provide a clear list of medications that were added or increased, but it mentions that the patient was started on Dapsone and that the Prograf dose was increased. \\nThe report does not provide a clear list of medications that were tapered or discontinued, but it mentions that the steroids were tapered off. \\nThe report does not provide a clear list of medications that were continued or unchanged, but it mentions that the patient was taking lisinopril and nephrocaps on admission. \\nThe report does not provide a clear list of medications that were added or increased, but it mentions that the patient was started on Dapsone and that the Prograf dose was increased. \\nThe report does not provide a clear list of medications that were tapered or discontinued, but it mentions that the steroids were tapered off. \\nThe report does not provide a clear list of medications that were continued or unchanged, but it mentions that the patient was taking lisinopril and nephrocaps on admission. \\nThe report does not provide a clear list of medications that were added or increased, but it mentions that the patient was started on Dapsone and that the Prograf dose was increased. \\nThe report does not provide a clear list of medications that were tapered or discontinued, but it mentions that the steroids were tapered off. \\nThe report does not provide a clear list of medications that were continued or unchanged, but it mentions that the patient was taking lisinopril and nephrocaps on admission. \\nThe report does not provide a clear list of medications that were added or increased, but it mentions that the patient was started on Dapsone and that the Prograf dose was increased. \\nThe report does not provide a clear list of medications that were tapered or discontinued, but it mentions that the steroids were tapered off. \\nThe report does not provide a clear list of medications that were continued or unchanged, but it mentions that the patient was taking lisinopril and nephrocaps on admission. \\nThe report does not provide a clear list of medications that were added or increased, but it mentions that the patient was started on Dapsone and that the Prograf dose was increased. \\nThe report does not provide a clear list of medications that were tapered or discontinued, but it mentions that the steroids were tapered off. \\nThe report does not provide a clear list of medications that were continued or unchanged, but it mentions that the patient was taking lisinopril and nephrocaps on admission. \\nThe report does not provide a clear list of medications that were added or increased, but it mentions that the patient was started on Dapsone and that the Prograf dose was increased. \\nThe report does not provide a clear list of medications that were tapered or discontinued, but it mentions that the steroids were tapered off. \\nThe report does not provide a clear list of medications that were continued or unchanged, but it mentions that the patient was taking lisinopril and nephrocaps on admission. \\nThe report does not provide a clear list of medications that were added or increased, but it mentions that the patient was started on Dapsone and that the Prograf dose was increased. \\nThe report does not provide a clear list of medications that were tapered or discontinued, but it mentions that the steroids were tapered off. \\nThe report does not provide a clear list of medications that were continued or unchanged, but it mentions that the patient was taking lisinopril and nephrocaps on admission. \\nThe report does not provide a clear list of medications that were added or increased, but it mentions that the patient was started on Dapsone and that the Prograf dose was increased. \\nThe report does not provide a clear list of medications that were tapered or discontinued, but it mentions that the steroids were tapered off. \\nThe report does not provide a clear list of medications that were continued or unchanged, but it mentions that the patient was taking lisinopril and nephrocaps on admission. \\nThe report does not provide a clear list of medications that were added or increased, but it mentions that the patient was started on Dapsone and that the Prograf dose was increased. \\nThe report does not provide a clear list of medications that were tapered or discontinued, but it mentions that the steroids were tapered off. \\nThe report does not provide a clear list of medications that were continued or unchanged, but it mentions that the patient was taking lisinopril and nephrocaps on admission. \\nThe report does not provide a clear list of medications that were added or increased, but it mentions that the patient was started on Dapsone and that the Prograf dose was increased. \\nThe report does not provide a clear list of medications that were tapered or discontinued, but it mentions that the steroids were tapered off. \\nThe report does not provide a clear list of medications that were continued or unchanged, but it mentions that the patient was taking lisinopril and nephrocaps on admission. \\nThe report does not provide a clear list of medications that were added or increased, but it mentions that the patient was started on Dapsone and that the Prograf dose was increased. \\nThe report does not provide a clear list of medications that were tapered or discontinued, but it mentions that the steroids were tapered off. \\nThe report does not provide a clear list of medications that were continued or unchanged, but it mentions that the patient was taking lisinopril and nephrocaps on admission. \\nThe report does not provide a clear list of medications that were added or increased, but it mentions that the patient was started on Dapsone and that the Prograf dose was increased. \\nThe report does not provide a clear list of medications that were tapered or discontinued, but it mentions that the steroids were tapered off. \\nThe report does not provide a clear list of medications that were continued or unchanged, but it mentions that the patient was taking lisinopril and nephrocaps on admission. \\nThe report does not provide a clear list of medications that were added or increased, but it mentions that the patient was started on Dapsone and that the Prograf dose was increased. \\nThe report does not provide a clear list of medications that were tapered or discontinued, but it mentions that the steroids were tapered off. \\nThe report does not provide a clear list of medications that were continued or unchanged, but it mentions that the patient was taking lisinopril and nephrocaps on admission. \\nThe report does not provide a clear list of medications that were added or increased, but it mentions that the patient was started on Dapsone and that the Prograf dose was increased. \\nThe report does not provide a clear list of medications that were tapered or discontinued, but it mentions that the steroids were tapered off. \\nThe report does not provide a clear list of medications that were continued or unchanged, but it mentions that the patient was taking lisinopril and nephrocaps on admission. \\nThe report does not provide a clear list of medications that were added or increased, but it mentions that the patient was started on Dapsone and that the Prograf dose was increased. \\nThe report does not provide a clear list of medications that were tapered or discontinued, but it mentions that the steroids were tapered off. \\nThe report does not provide a clear list of medications that were continued or unchanged, but it mentions that the patient was taking lisinopril and nephrocaps on admission. \\nThe report does not provide a clear list of medications that were added or increased, but it mentions that the patient was started on Dapsone and that the Prograf dose was increased. \\nThe report does not provide a clear list of medications that were tapered or discontinued, but it mentions that the steroids were tapered off. \\nThe report does not provide a clear list of medications that were continued or unchanged, but it mentions that the patient was taking lisinopril and nephrocaps on admission. \\nThe report does not provide a clear list of medications that were added or increased, but it mentions that the patient was started on Dapsone and that the Prograf dose was increased. \\nThe report does not provide a clear list of medications that were tapered or discontinued, but it mentions that the steroids were tapered off. \\nThe report does not provide a clear list of medications that were continued or unchanged, but it mentions that the patient was taking lisinopril and nephrocaps on admission. \\nThe report does not provide a clear list of medications that were added or increased, but it mentions that the patient was started on Dapsone and that the Prograf dose was increased. \\nThe report does not provide a clear list of medications that were tapered or discontinued, but it mentions that the steroids were tapered off. \\nThe report does not provide a clear list of medications that were continued or unchanged, but it mentions that the patient was taking lisinopril and nephrocaps on admission. \\nThe report does not provide a clear list of medications that were added or increased, but it mentions that the patient was started on Dapsone and that the Prograf dose was increased. \\nThe report does not provide a clear list of medications that were tapered or discontinued, but it mentions\""
      ]
     },
     "execution_count": 16,
     "metadata": {},
     "output_type": "execute_result"
    }
   ],
   "source": [
    "df_generated['generated_summary'][0]\n"
   ]
  },
  {
   "cell_type": "code",
   "execution_count": 7,
   "metadata": {},
   "outputs": [
    {
     "data": {
      "application/vnd.jupyter.widget-view+json": {
       "model_id": "ffdf6ab93f084c129ab7dfefde349be8",
       "version_major": 2,
       "version_minor": 0
      },
      "text/plain": [
       "config.json:   0%|          | 0.00/314 [00:00<?, ?B/s]"
      ]
     },
     "metadata": {},
     "output_type": "display_data"
    },
    {
     "data": {
      "application/vnd.jupyter.widget-view+json": {
       "model_id": "e2f53513c779497fad44d79f4fd442dd",
       "version_major": 2,
       "version_minor": 0
      },
      "text/plain": [
       "vocab.txt:   0%|          | 0.00/232k [00:00<?, ?B/s]"
      ]
     },
     "metadata": {},
     "output_type": "display_data"
    }
   ],
   "source": [
    "# GET pubmedbert tokenizer\n",
    "tokenizer = AutoTokenizer.from_pretrained(\"bionlp/bluebert_pubmed_uncased_L-24_H-1024_A-16\")\n"
   ]
  },
  {
   "cell_type": "code",
   "execution_count": 35,
   "metadata": {},
   "outputs": [
    {
     "name": "stdout",
     "output_type": "stream",
     "text": [
      "Max number of tokens in reports: 9047\n",
      "Min number of tokens in reports: 888\n",
      "Mean number of tokens in reports: 3052.8321678321677\n",
      "Std number of tokens in reports: 1423.0700437626888\n",
      "Max number of tokens in summaries: 523\n",
      "Min number of tokens in summaries: 112\n",
      "Mean number of tokens in summaries: 272.9300699300699\n",
      "Std number of tokens in summaries: 78.4147258852535\n"
     ]
    }
   ],
   "source": [
    "list_num_of_tokens_report = []\n",
    "list_num_of_tokens_summary = []\n",
    "for i, row in train_df.iterrows():\n",
    "    report_input_ids = tokenizer(row['discharge_report'], return_tensors='pt')['input_ids']\n",
    "    summary_input_ids = tokenizer(row['discharge_summary'], return_tensors='pt')['input_ids']\n",
    "    list_num_of_tokens_report.append(report_input_ids.shape[1])\n",
    "    list_num_of_tokens_summary.append(summary_input_ids.shape[1])\n",
    "\n",
    "# max, min, mean, std of the number of tokens in the reports and summaries\n",
    "print(f\"Max number of tokens in reports: {max(list_num_of_tokens_report)}\")\n",
    "print(f\"Min number of tokens in reports: {min(list_num_of_tokens_report)}\")\n",
    "print(f\"Mean number of tokens in reports: {np.mean(list_num_of_tokens_report)}\")\n",
    "print(f\"Std number of tokens in reports: {np.std(list_num_of_tokens_report)}\")\n",
    "\n",
    "print(f\"Max number of tokens in summaries: {max(list_num_of_tokens_summary)}\")\n",
    "print(f\"Min number of tokens in summaries: {min(list_num_of_tokens_summary)}\")\n",
    "print(f\"Mean number of tokens in summaries: {np.mean(list_num_of_tokens_summary)}\")\n",
    "print(f\"Std number of tokens in summaries: {np.std(list_num_of_tokens_summary)}\")\n",
    "\n",
    "#get 3 longest report's ids in a list\n",
    "list_longest_report_ids = train_df['discharge_report'].str.len().sort_values(ascending=False).head(3).index.tolist()\n",
    "longest_reports = train_df.iloc[list_longest_report_ids]['discharge_report'].tolist()\n",
    "longest_report_summaries = train_df.iloc[list_longest_report_ids]['discharge_summary'].tolist()\n",
    "\n",
    "def write_sent_lines(longest_reports, longest_report_summaries, file_path):\n",
    "    with open(file_path, \"w\") as f:\n",
    "        for i in range(len(longest_reports)):\n",
    "            f.write(\"###REPORT: \\n\")\n",
    "            f.write(longest_reports[i] + \"\\n\\n\")\n",
    "            f.write(\"###SUMMARY: \\n\")\n",
    "            doc = nlp(longest_report_summaries[i])\n",
    "            for sent in doc.sents:\n",
    "                f.write(sent.text + \"\\n\")\n",
    "            f.write(\"\\n\\n\")\n",
    "            \n",
    "            \n",
    "write_sent_lines(longest_reports, longest_report_summaries, os.path.join(project_path, '..', '..', 'scripts', 'data_exploration', 'longest_report_and_summary.txt'))\n"
   ]
  },
  {
   "cell_type": "code",
   "execution_count": 18,
   "metadata": {},
   "outputs": [
    {
     "name": "stdout",
     "output_type": "stream",
     "text": [
      "Total tokens in test set reports: 299322\n",
      "Average tokens in test set reports: 3117.9375\n",
      "Total tokens in test set summaries: 25759\n",
      "Average tokens in test set summaries: 268.3229166666667\n"
     ]
    }
   ],
   "source": [
    "report_total_tokens = 0 \n",
    "summary_total_tokens = 0\n",
    "for i, row in test_df.iterrows():\n",
    "    report_input_ids = tokenizer(row['discharge_report'], return_tensors='pt')['input_ids']\n",
    "    summary_input_ids = tokenizer(row['discharge_summary'], return_tensors='pt')['input_ids']\n",
    "    report_total_tokens += report_input_ids.shape[1]\n",
    "    summary_total_tokens += summary_input_ids.shape[1]\n",
    "    \n",
    "print(f\"Total tokens in test set reports: {report_total_tokens}\")\n",
    "print(f\"Average tokens in test set reports: {report_total_tokens / len(test_df)}\")\n",
    "print(f\"Total tokens in test set summaries: {summary_total_tokens}\")\n",
    "print(f\"Average tokens in test set summaries: {summary_total_tokens / len(test_df)}\")\n",
    "\n"
   ]
  },
  {
   "cell_type": "code",
   "execution_count": 37,
   "metadata": {},
   "outputs": [],
   "source": [
    "txt = \"\"\"\n",
    "A 68-year-old male came to the hospital because he fell while putting away Christmas decorations.\n",
    "After three hours, he became disoriented and confused while talking to his family members.\n",
    "His vital signs were checked, revealing that he had low blood pressure.\n",
    "Anemia, low glucose levels, elevated lactate level, high sodium level, and high creatinine level were noted during his lab tests.\n",
    "His vital signs were closely monitored.\n",
    "An initial CT scan revealed two small subdural hematomas behind his ears.\n",
    "After being treated by multiple specialists including neurosurgery, and undergoing further tests like MRI scans and a lumbar puncture, it became apparent that there was bleeding within the brain cavity behind his ears.\n",
    "After extensive treatment, including medication to prevent seizures and managing fluid balance within his skull, the patient made progress towards recovery.\n",
    "Eventually, he underwent procedures such as IVC filter placement and PEG tube insertion through surgery.\n",
    "Eventually cleared out the blood around his ears, making significant progress toward stability.\n",
    "However, neurological assessment indicated slight decrease in motor function on both sides of his legs; nonetheless, his overall health improved enough to make a full recovery.    \n",
    "<br> <br>  )<br>  )\n",
    "<br>  )\n",
    "<br>  )\n",
    "<br>  )\n",
    "<br>   \n",
    "\"\"\""
   ]
  },
  {
   "cell_type": "code",
   "execution_count": 39,
   "metadata": {},
   "outputs": [
    {
     "name": "stdout",
     "output_type": "stream",
     "text": [
      "\n",
      "A 68-year-old male came to the hospital because he fell while putting away Christmas decorations.\n",
      "\n",
      "After three hours, he became disoriented and confused while talking to his family members.\n",
      "\n",
      "His vital signs were checked, revealing that he had low blood pressure.\n",
      "\n",
      "Anemia, low glucose levels, elevated lactate level, high sodium level, and high creatinine level were noted during his lab tests.\n",
      "\n",
      "His vital signs were closely monitored.\n",
      "\n",
      "An initial CT scan revealed two small subdural hematomas behind his ears.\n",
      "\n",
      "After being treated by multiple specialists including neurosurgery, and undergoing further tests like MRI scans and a lumbar puncture, it became apparent that there was bleeding within the brain cavity behind his ears.\n",
      "\n",
      "After extensive treatment, including medication to prevent seizures and managing fluid balance within his skull, the patient made progress towards recovery.\n",
      "\n",
      "Eventually, he underwent procedures such as IVC filter placement and PEG tube insertion through surgery.\n",
      "\n",
      "Eventually cleared out the blood around his ears, making significant progress toward stability.\n",
      "\n",
      "However, neurological assessment indicated slight decrease in motor function on both sides of his legs; nonetheless, his overall health improved enough to make a full recovery.    \n",
      "\n",
      "<br> <br>  )<br>  )\n",
      "<br>  )\n",
      "\n",
      "<br>  )\n",
      "<br>  )\n",
      "<br>   \n",
      "\n"
     ]
    }
   ],
   "source": [
    "doc = nlp(txt)\n",
    "for sent in doc.sents:\n",
    "    sentence = sent.text\n",
    "    print(sentence)\n",
    "    print(len(sentence))"
   ]
  },
  {
   "cell_type": "code",
   "execution_count": 54,
   "metadata": {},
   "outputs": [
    {
     "ename": "ModuleNotFoundError",
     "evalue": "No module named 'constants'",
     "output_type": "error",
     "traceback": [
      "\u001b[0;31m---------------------------------------------------------------------------\u001b[0m",
      "\u001b[0;31mModuleNotFoundError\u001b[0m                       Traceback (most recent call last)",
      "Cell \u001b[0;32mIn[54], line 1\u001b[0m\n\u001b[0;32m----> 1\u001b[0m \u001b[38;5;28;01mfrom\u001b[39;00m \u001b[38;5;21;01mconstants\u001b[39;00m \u001b[38;5;28;01mimport\u001b[39;00m LLM_NAME\n",
      "\u001b[0;31mModuleNotFoundError\u001b[0m: No module named 'constants'"
     ]
    }
   ],
   "source": [
    "from constants import LLM_NAME"
   ]
  },
  {
   "cell_type": "code",
   "execution_count": null,
   "metadata": {},
   "outputs": [],
   "source": []
  }
 ],
 "metadata": {
  "kernelspec": {
   "display_name": "pytorch_env",
   "language": "python",
   "name": "python3"
  },
  "language_info": {
   "codemirror_mode": {
    "name": "ipython",
    "version": 3
   },
   "file_extension": ".py",
   "mimetype": "text/x-python",
   "name": "python",
   "nbconvert_exporter": "python",
   "pygments_lexer": "ipython3",
   "version": "3.10.14"
  }
 },
 "nbformat": 4,
 "nbformat_minor": 2
}
