{
 "cells": [
  {
   "cell_type": "code",
   "execution_count": 1,
   "metadata": {},
   "outputs": [],
   "source": [
    "import pandas as pd\n",
    "import json\n",
    "import os\n",
    "from datasets import Dataset, DatasetDict\n",
    "from transformers import AutoTokenizer\n",
    "import spacy\n"
   ]
  },
  {
   "cell_type": "code",
   "execution_count": 2,
   "metadata": {},
   "outputs": [],
   "source": [
    "nlp = spacy.load(\"en_core_web_sm\")\n"
   ]
  },
  {
   "cell_type": "code",
   "execution_count": 5,
   "metadata": {},
   "outputs": [
    {
     "data": {
      "text/plain": [
       "Index(['discharge_report', 'discharge_summary', 'generated_summary'], dtype='object')"
      ]
     },
     "execution_count": 5,
     "metadata": {},
     "output_type": "execute_result"
    }
   ],
   "source": [
    "project_path = os.getcwd()\n",
    "generated = pd.read_csv(os.path.join(project_path, \"..\", \"..\", \"output\", \"few_shot_summaries\", \"test_generated.csv\"))\n",
    "generated.columns\n"
   ]
  },
  {
   "cell_type": "code",
   "execution_count": 6,
   "metadata": {},
   "outputs": [],
   "source": [
    "original_summaries_sentences = []\n",
    "generated_summaries_sentences = []\n",
    "for i, row in generated.iterrows():\n",
    "    original_doc = nlp(row[\"discharge_summary\"])\n",
    "    original_summaries_sentences.append([sent.text for sent in original_doc.sents])\n",
    "    generated_doc = nlp(row[\"generated_summary\"])\n",
    "    generated_summaries_sentences.append([sent.text for sent in generated_doc.sents])\n"
   ]
  },
  {
   "cell_type": "code",
   "execution_count": 16,
   "metadata": {},
   "outputs": [],
   "source": [
    "def write_sent_lines(summaries, file_path):\n",
    "    for summary in summaries:\n",
    "        with open(file_path, \"a\") as f:\n",
    "            f.write(\"###SUMMARY: \\n\")\n",
    "            for sent in summary:\n",
    "                f.write(sent + \"\\n\")\n",
    "            f.write(\"\\n\\n\")\n",
    "\n",
    "\n"
   ]
  },
  {
   "cell_type": "code",
   "execution_count": 17,
   "metadata": {},
   "outputs": [],
   "source": [
    "write_sent_lines(original_summaries_sentences, os.path.join(project_path, \"..\", \"..\", \"output\", \"few_shot_summaries\", \"original_summaries_sentences.txt\"))\n",
    "write_sent_lines(generated_summaries_sentences, os.path.join(project_path, \"..\", \"..\", \"output\", \"few_shot_summaries\", \"generated_summaries_sentences.txt\"))"
   ]
  },
  {
   "cell_type": "code",
   "execution_count": 3,
   "metadata": {},
   "outputs": [
    {
     "name": "stdout",
     "output_type": "stream",
     "text": [
      "Min length report: 3416\n",
      "Max length report: 33209\n",
      "Mean length report: 11007.517482517482\n",
      "Standard deviation report: 4990.852398247897\n",
      "Min length summary: 576\n",
      "Max length summary: 2210\n",
      "Mean length summary: 1145.2202797202797\n",
      "Standard deviation summary: 322.84188255421503\n"
     ]
    }
   ],
   "source": [
    "# min, max, mean, std of the length of the discharge reports and summaries\n",
    "lengths = train_df['discharge_report'].str.len()  # Calculate the length of each report\n",
    "\n",
    "# Calculate min, max, mean, and std\n",
    "min_length = lengths.min()\n",
    "max_length = lengths.max()\n",
    "mean_length = lengths.mean()\n",
    "std_length = lengths.std()\n",
    "\n",
    "# Print the results\n",
    "print(f\"Min length report: {min_length}\")\n",
    "print(f\"Max length report: {max_length}\")\n",
    "print(f\"Mean length report: {mean_length}\")\n",
    "print(f\"Standard deviation report: {std_length}\")\n",
    "\n",
    "lengths = train_df['discharge_summary'].str.len()  # Calculate the length of each summary\n",
    "\n",
    "# Calculate min, max, mean, and std\n",
    "min_length = lengths.min()\n",
    "max_length = lengths.max()\n",
    "mean_length = lengths.mean()\n",
    "std_length = lengths.std()\n",
    "\n",
    "# Print the results\n",
    "print(f\"Min length summary: {min_length}\")\n",
    "print(f\"Max length summary: {max_length}\")\n",
    "print(f\"Mean length summary: {mean_length}\")\n",
    "print(f\"Standard deviation summary: {std_length}\")\n"
   ]
  },
  {
   "cell_type": "code",
   "execution_count": 12,
   "metadata": {},
   "outputs": [],
   "source": [
    "output_path = os.path.join(project_path, '..', '..', 'output', 'zero_shot_summaries')\n",
    "df_generated = pd.read_csv(os.path.join(output_path, 'test_generated.csv'))\n"
   ]
  },
  {
   "cell_type": "code",
   "execution_count": 13,
   "metadata": {},
   "outputs": [
    {
     "data": {
      "text/plain": [
       "Index(['discharge_report', 'discharge_summary', 'generated_summary'], dtype='object')"
      ]
     },
     "execution_count": 13,
     "metadata": {},
     "output_type": "execute_result"
    }
   ],
   "source": [
    "df_generated.columns"
   ]
  },
  {
   "cell_type": "code",
   "execution_count": 15,
   "metadata": {},
   "outputs": [
    {
     "data": {
      "text/plain": [
       "\"The patient is a 51-year-old male who underwent a living non-related renal transplant due to end-stage renal disease (ESRD) caused by medication toxicity and chronic dehydration. He has a history of Crohn's disease, which was treated with total colectomy and ileoanal pullthrough 20 years ago. He has been on hemodialysis since then. The patient has allergies to sulfa, penicillins, and Asacol. His past medical history includes ESRD, interstitial nephritis, and Asacol on HD via RIJ tunnel cath. \\n\\nDuring his hospital stay, the patient received induction immunosuppression and underwent a successful transplant with a living donor. He experienced some complications, including decreased urine output and low blood pressure, which were managed with fluid replacement and medication adjustments. The patient was discharged with a stable condition and was instructed to follow up with the transplant office and to have regular lab tests. His medications at discharge included acetaminophen, dapsone, famotidine, mycophenolate mofetil, nystatin, amlodipine, oxycodone, tacrolimus, and valganciclovir.\""
      ]
     },
     "execution_count": 15,
     "metadata": {},
     "output_type": "execute_result"
    }
   ],
   "source": [
    "df_generated['discharge_summary'][0]"
   ]
  },
  {
   "cell_type": "code",
   "execution_count": 16,
   "metadata": {},
   "outputs": [
    {
     "data": {
      "text/plain": [
       "\" \\nThe patient is a 51-year-old male with a history of Crohn's disease and end-stage renal disease (ESRD) who underwent a living non-related renal transplant. He received induction immunosuppression and was started on Prograf, Cellcept, and Solu-Medrol. Postoperatively, he experienced a decrease in urine output, which was managed with fluid replacements and a decrease in Prograf dose. He was also started on Dapsone for PCP prophylaxis due to a sulfa allergy. He was discharged on a regimen of immunosuppressive medications, including Tacrolimus, Mycophenolate Mofetil, and Valganciclovir, as well as pain medication and anti-diarrheal medication. He was instructed to follow up with the transplant office and to have labs drawn regularly. He was also advised to avoid heavy lifting, straining, and driving while taking pain medication.\\nThe final answer is: There is no final answer to this problem as it is a discharge report summary. However, the key points from the report are:\\n\\n* The patient is a 51-year-old male with a history of Crohn's disease and ESRD.\\n* He underwent a living non-related renal transplant.\\n* He received induction immunosuppression and was started on Prograf, Cellcept, and Solu-Medrol.\\n* Postoperatively, he experienced a decrease in urine output, which was managed with fluid replacements and a decrease in Prograf dose.\\n* He was started on Dapsone for PCP prophylaxis due to a sulfa allergy.\\n* He was discharged on a regimen of immunosuppressive medications, including Tacrolimus, Mycophenolate Mofetil, and Valganciclovir, as well as pain medication and anti-diarrheal medication.\\n* He was instructed to follow up with the transplant office and to have labs drawn regularly.\\n* He was also advised to avoid heavy lifting, straining, and driving while taking pain medication. \\nNote: The report does not provide a clear discharge diagnosis, but it mentions ESRD and Crohn's disease as the patient's underlying conditions. The report also does not provide a clear discharge condition, but it mentions that the patient is alert and interactive and is ambulatory independently. \\nThe report does not provide a clear follow-up instruction, but it mentions that the patient should follow up with the transplant office and have labs drawn regularly. \\nThe report does not provide a clear medication list, but it mentions that the patient is taking Tacrolimus, Mycophenolate Mofetil, and Valganciclovir, as well as pain medication and anti-diarrheal medication. \\nThe report does not provide a clear list of medications on admission, but it mentions that the patient was taking lisinopril and nephrocaps. \\nThe report does not provide a clear list of medications on discharge, but it mentions that the patient is taking Acetaminophen, Dapsone, Famotidine, Mycophenolate Mofetil, Nystatin, Amlodipine, OxycoDONE, Tacrolimus, Loperamide, and ValGANCIclovir. \\nThe report does not provide a clear list of medications that were held or discontinued, but it mentions that the patient was started on Dapsone and that the Prograf dose was decreased. \\nThe report does not provide a clear list of medications that were added or increased, but it mentions that the patient was started on Dapsone and that the Prograf dose was increased. \\nThe report does not provide a clear list of medications that were tapered or discontinued, but it mentions that the steroids were tapered off. \\nThe report does not provide a clear list of medications that were continued or unchanged, but it mentions that the patient was taking lisinopril and nephrocaps on admission. \\nThe report does not provide a clear list of medications that were added or increased, but it mentions that the patient was started on Dapsone and that the Prograf dose was increased. \\nThe report does not provide a clear list of medications that were tapered or discontinued, but it mentions that the steroids were tapered off. \\nThe report does not provide a clear list of medications that were continued or unchanged, but it mentions that the patient was taking lisinopril and nephrocaps on admission. \\nThe report does not provide a clear list of medications that were added or increased, but it mentions that the patient was started on Dapsone and that the Prograf dose was increased. \\nThe report does not provide a clear list of medications that were tapered or discontinued, but it mentions that the steroids were tapered off. \\nThe report does not provide a clear list of medications that were continued or unchanged, but it mentions that the patient was taking lisinopril and nephrocaps on admission. \\nThe report does not provide a clear list of medications that were added or increased, but it mentions that the patient was started on Dapsone and that the Prograf dose was increased. \\nThe report does not provide a clear list of medications that were tapered or discontinued, but it mentions that the steroids were tapered off. \\nThe report does not provide a clear list of medications that were continued or unchanged, but it mentions that the patient was taking lisinopril and nephrocaps on admission. \\nThe report does not provide a clear list of medications that were added or increased, but it mentions that the patient was started on Dapsone and that the Prograf dose was increased. \\nThe report does not provide a clear list of medications that were tapered or discontinued, but it mentions that the steroids were tapered off. \\nThe report does not provide a clear list of medications that were continued or unchanged, but it mentions that the patient was taking lisinopril and nephrocaps on admission. \\nThe report does not provide a clear list of medications that were added or increased, but it mentions that the patient was started on Dapsone and that the Prograf dose was increased. \\nThe report does not provide a clear list of medications that were tapered or discontinued, but it mentions that the steroids were tapered off. \\nThe report does not provide a clear list of medications that were continued or unchanged, but it mentions that the patient was taking lisinopril and nephrocaps on admission. \\nThe report does not provide a clear list of medications that were added or increased, but it mentions that the patient was started on Dapsone and that the Prograf dose was increased. \\nThe report does not provide a clear list of medications that were tapered or discontinued, but it mentions that the steroids were tapered off. \\nThe report does not provide a clear list of medications that were continued or unchanged, but it mentions that the patient was taking lisinopril and nephrocaps on admission. \\nThe report does not provide a clear list of medications that were added or increased, but it mentions that the patient was started on Dapsone and that the Prograf dose was increased. \\nThe report does not provide a clear list of medications that were tapered or discontinued, but it mentions that the steroids were tapered off. \\nThe report does not provide a clear list of medications that were continued or unchanged, but it mentions that the patient was taking lisinopril and nephrocaps on admission. \\nThe report does not provide a clear list of medications that were added or increased, but it mentions that the patient was started on Dapsone and that the Prograf dose was increased. \\nThe report does not provide a clear list of medications that were tapered or discontinued, but it mentions that the steroids were tapered off. \\nThe report does not provide a clear list of medications that were continued or unchanged, but it mentions that the patient was taking lisinopril and nephrocaps on admission. \\nThe report does not provide a clear list of medications that were added or increased, but it mentions that the patient was started on Dapsone and that the Prograf dose was increased. \\nThe report does not provide a clear list of medications that were tapered or discontinued, but it mentions that the steroids were tapered off. \\nThe report does not provide a clear list of medications that were continued or unchanged, but it mentions that the patient was taking lisinopril and nephrocaps on admission. \\nThe report does not provide a clear list of medications that were added or increased, but it mentions that the patient was started on Dapsone and that the Prograf dose was increased. \\nThe report does not provide a clear list of medications that were tapered or discontinued, but it mentions that the steroids were tapered off. \\nThe report does not provide a clear list of medications that were continued or unchanged, but it mentions that the patient was taking lisinopril and nephrocaps on admission. \\nThe report does not provide a clear list of medications that were added or increased, but it mentions that the patient was started on Dapsone and that the Prograf dose was increased. \\nThe report does not provide a clear list of medications that were tapered or discontinued, but it mentions that the steroids were tapered off. \\nThe report does not provide a clear list of medications that were continued or unchanged, but it mentions that the patient was taking lisinopril and nephrocaps on admission. \\nThe report does not provide a clear list of medications that were added or increased, but it mentions that the patient was started on Dapsone and that the Prograf dose was increased. \\nThe report does not provide a clear list of medications that were tapered or discontinued, but it mentions that the steroids were tapered off. \\nThe report does not provide a clear list of medications that were continued or unchanged, but it mentions that the patient was taking lisinopril and nephrocaps on admission. \\nThe report does not provide a clear list of medications that were added or increased, but it mentions that the patient was started on Dapsone and that the Prograf dose was increased. \\nThe report does not provide a clear list of medications that were tapered or discontinued, but it mentions that the steroids were tapered off. \\nThe report does not provide a clear list of medications that were continued or unchanged, but it mentions that the patient was taking lisinopril and nephrocaps on admission. \\nThe report does not provide a clear list of medications that were added or increased, but it mentions that the patient was started on Dapsone and that the Prograf dose was increased. \\nThe report does not provide a clear list of medications that were tapered or discontinued, but it mentions that the steroids were tapered off. \\nThe report does not provide a clear list of medications that were continued or unchanged, but it mentions that the patient was taking lisinopril and nephrocaps on admission. \\nThe report does not provide a clear list of medications that were added or increased, but it mentions that the patient was started on Dapsone and that the Prograf dose was increased. \\nThe report does not provide a clear list of medications that were tapered or discontinued, but it mentions that the steroids were tapered off. \\nThe report does not provide a clear list of medications that were continued or unchanged, but it mentions that the patient was taking lisinopril and nephrocaps on admission. \\nThe report does not provide a clear list of medications that were added or increased, but it mentions that the patient was started on Dapsone and that the Prograf dose was increased. \\nThe report does not provide a clear list of medications that were tapered or discontinued, but it mentions that the steroids were tapered off. \\nThe report does not provide a clear list of medications that were continued or unchanged, but it mentions that the patient was taking lisinopril and nephrocaps on admission. \\nThe report does not provide a clear list of medications that were added or increased, but it mentions that the patient was started on Dapsone and that the Prograf dose was increased. \\nThe report does not provide a clear list of medications that were tapered or discontinued, but it mentions that the steroids were tapered off. \\nThe report does not provide a clear list of medications that were continued or unchanged, but it mentions that the patient was taking lisinopril and nephrocaps on admission. \\nThe report does not provide a clear list of medications that were added or increased, but it mentions that the patient was started on Dapsone and that the Prograf dose was increased. \\nThe report does not provide a clear list of medications that were tapered or discontinued, but it mentions that the steroids were tapered off. \\nThe report does not provide a clear list of medications that were continued or unchanged, but it mentions that the patient was taking lisinopril and nephrocaps on admission. \\nThe report does not provide a clear list of medications that were added or increased, but it mentions that the patient was started on Dapsone and that the Prograf dose was increased. \\nThe report does not provide a clear list of medications that were tapered or discontinued, but it mentions that the steroids were tapered off. \\nThe report does not provide a clear list of medications that were continued or unchanged, but it mentions that the patient was taking lisinopril and nephrocaps on admission. \\nThe report does not provide a clear list of medications that were added or increased, but it mentions that the patient was started on Dapsone and that the Prograf dose was increased. \\nThe report does not provide a clear list of medications that were tapered or discontinued, but it mentions that the steroids were tapered off. \\nThe report does not provide a clear list of medications that were continued or unchanged, but it mentions that the patient was taking lisinopril and nephrocaps on admission. \\nThe report does not provide a clear list of medications that were added or increased, but it mentions that the patient was started on Dapsone and that the Prograf dose was increased. \\nThe report does not provide a clear list of medications that were tapered or discontinued, but it mentions that the steroids were tapered off. \\nThe report does not provide a clear list of medications that were continued or unchanged, but it mentions that the patient was taking lisinopril and nephrocaps on admission. \\nThe report does not provide a clear list of medications that were added or increased, but it mentions that the patient was started on Dapsone and that the Prograf dose was increased. \\nThe report does not provide a clear list of medications that were tapered or discontinued, but it mentions that the steroids were tapered off. \\nThe report does not provide a clear list of medications that were continued or unchanged, but it mentions that the patient was taking lisinopril and nephrocaps on admission. \\nThe report does not provide a clear list of medications that were added or increased, but it mentions that the patient was started on Dapsone and that the Prograf dose was increased. \\nThe report does not provide a clear list of medications that were tapered or discontinued, but it mentions that the steroids were tapered off. \\nThe report does not provide a clear list of medications that were continued or unchanged, but it mentions that the patient was taking lisinopril and nephrocaps on admission. \\nThe report does not provide a clear list of medications that were added or increased, but it mentions that the patient was started on Dapsone and that the Prograf dose was increased. \\nThe report does not provide a clear list of medications that were tapered or discontinued, but it mentions that the steroids were tapered off. \\nThe report does not provide a clear list of medications that were continued or unchanged, but it mentions that the patient was taking lisinopril and nephrocaps on admission. \\nThe report does not provide a clear list of medications that were added or increased, but it mentions that the patient was started on Dapsone and that the Prograf dose was increased. \\nThe report does not provide a clear list of medications that were tapered or discontinued, but it mentions that the steroids were tapered off. \\nThe report does not provide a clear list of medications that were continued or unchanged, but it mentions that the patient was taking lisinopril and nephrocaps on admission. \\nThe report does not provide a clear list of medications that were added or increased, but it mentions that the patient was started on Dapsone and that the Prograf dose was increased. \\nThe report does not provide a clear list of medications that were tapered or discontinued, but it mentions that the steroids were tapered off. \\nThe report does not provide a clear list of medications that were continued or unchanged, but it mentions that the patient was taking lisinopril and nephrocaps on admission. \\nThe report does not provide a clear list of medications that were added or increased, but it mentions that the patient was started on Dapsone and that the Prograf dose was increased. \\nThe report does not provide a clear list of medications that were tapered or discontinued, but it mentions that the steroids were tapered off. \\nThe report does not provide a clear list of medications that were continued or unchanged, but it mentions that the patient was taking lisinopril and nephrocaps on admission. \\nThe report does not provide a clear list of medications that were added or increased, but it mentions that the patient was started on Dapsone and that the Prograf dose was increased. \\nThe report does not provide a clear list of medications that were tapered or discontinued, but it mentions that the steroids were tapered off. \\nThe report does not provide a clear list of medications that were continued or unchanged, but it mentions that the patient was taking lisinopril and nephrocaps on admission. \\nThe report does not provide a clear list of medications that were added or increased, but it mentions that the patient was started on Dapsone and that the Prograf dose was increased. \\nThe report does not provide a clear list of medications that were tapered or discontinued, but it mentions that the steroids were tapered off. \\nThe report does not provide a clear list of medications that were continued or unchanged, but it mentions that the patient was taking lisinopril and nephrocaps on admission. \\nThe report does not provide a clear list of medications that were added or increased, but it mentions that the patient was started on Dapsone and that the Prograf dose was increased. \\nThe report does not provide a clear list of medications that were tapered or discontinued, but it mentions that the steroids were tapered off. \\nThe report does not provide a clear list of medications that were continued or unchanged, but it mentions that the patient was taking lisinopril and nephrocaps on admission. \\nThe report does not provide a clear list of medications that were added or increased, but it mentions that the patient was started on Dapsone and that the Prograf dose was increased. \\nThe report does not provide a clear list of medications that were tapered or discontinued, but it mentions that the steroids were tapered off. \\nThe report does not provide a clear list of medications that were continued or unchanged, but it mentions that the patient was taking lisinopril and nephrocaps on admission. \\nThe report does not provide a clear list of medications that were added or increased, but it mentions that the patient was started on Dapsone and that the Prograf dose was increased. \\nThe report does not provide a clear list of medications that were tapered or discontinued, but it mentions that the steroids were tapered off. \\nThe report does not provide a clear list of medications that were continued or unchanged, but it mentions that the patient was taking lisinopril and nephrocaps on admission. \\nThe report does not provide a clear list of medications that were added or increased, but it mentions that the patient was started on Dapsone and that the Prograf dose was increased. \\nThe report does not provide a clear list of medications that were tapered or discontinued, but it mentions\""
      ]
     },
     "execution_count": 16,
     "metadata": {},
     "output_type": "execute_result"
    }
   ],
   "source": [
    "df_generated['generated_summary'][0]\n"
   ]
  },
  {
   "cell_type": "code",
   "execution_count": null,
   "metadata": {},
   "outputs": [],
   "source": []
  }
 ],
 "metadata": {
  "kernelspec": {
   "display_name": "pytorch_env",
   "language": "python",
   "name": "python3"
  },
  "language_info": {
   "codemirror_mode": {
    "name": "ipython",
    "version": 3
   },
   "file_extension": ".py",
   "mimetype": "text/x-python",
   "name": "python",
   "nbconvert_exporter": "python",
   "pygments_lexer": "ipython3",
   "version": "3.11.10"
  }
 },
 "nbformat": 4,
 "nbformat_minor": 2
}
